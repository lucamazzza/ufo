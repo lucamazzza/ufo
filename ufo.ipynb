{
 "cells": [
  {
   "cell_type": "markdown",
   "id": "5d86cb0a-ad35-4004-a7e0-40416812fe5d",
   "metadata": {},
   "source": [
    "# UFO Sightings Redux\n",
    "\n",
    "by **Mazza Luca**, **Giada Galdiolo** and **Vasco Silva Pereira**\n",
    "\n",
    "## Dataset\n",
    "\n",
    "[UFO Sightings Redux *by National UFO Reporting Center*](https://github.com/rfordatascience/tidytuesday/blob/main/data/2023/2023-06-20/readme.md)\n",
    "\n"
   ]
  },
  {
   "cell_type": "code",
   "id": "2eff23c6-b61a-4319-8c54-a06a899b1949",
   "metadata": {},
   "source": [
    "# Load Dataset\n",
    "\n",
    "import pandas as pd\n",
    "import numpy as np\n",
    "import plotly.express as px\n",
    "import plotly.graph_objects as go\n",
    "import plotly.subplots as ps\n",
    "from plotly.subplots import make_subplots\n",
    "\n",
    "\n",
    "df = pd.read_csv('./data/ufo_sightings.csv')\n",
    "df_dayparts = pd.read_csv('./data/day_parts_map.csv')\n",
    "df_places = pd.read_csv('./data/places.csv')\n",
    "\n",
    "df['id'] = range(1, len(df) + 1)\n",
    "df.set_index('id', inplace=True)\n",
    "\n",
    "df['posted_date'] = pd.to_datetime(df['posted_date'], format = '%Y-%m-%d', errors = 'coerce')\n",
    "df['reported_date_time'] = pd.to_datetime(df['reported_date_time'], errors = 'coerce')\n",
    "df['reported_date_time_utc'] = pd.to_datetime(df['reported_date_time_utc'], errors = 'coerce')"
   ],
   "outputs": [],
   "execution_count": null
  },
  {
   "cell_type": "code",
   "id": "04f29be3-bb70-4b54-b5b5-4cf1ae6ab75c",
   "metadata": {},
   "source": "df.info()",
   "outputs": [],
   "execution_count": null
  },
  {
   "metadata": {},
   "cell_type": "code",
   "source": "df.head(100000)",
   "id": "58e23674b60c950",
   "outputs": [],
   "execution_count": null
  },
  {
   "metadata": {},
   "cell_type": "code",
   "source": [
    "df_tmp = df.groupby(df['reported_date_time'].dt.year).size()\n",
    "px.line(data_frame=df_tmp) \\\n",
    "    .update_layout(title=\"Sightings per Year\", xaxis_title=\"Reported Year\", yaxis_title=\"Number of sightings\", showlegend=False)"
   ],
   "id": "980550376d954289",
   "outputs": [],
   "execution_count": null
  },
  {
   "metadata": {},
   "cell_type": "code",
   "source": [
    "px.histogram(data_frame=df, x='duration_seconds', range_x=[0, 1000000])\\\n",
    "    .update_yaxes(type=\"log\")\\\n",
    "    .update_layout(title='Distribution of Duration', xaxis_title=\"Duration [s]\", yaxis_title=\"Number of sightings\", showlegend=False)"
   ],
   "id": "dac4dba803e581c2",
   "outputs": [],
   "execution_count": null
  }
 ],
 "metadata": {
  "kernelspec": {
   "display_name": "Python 3 (ipykernel)",
   "language": "python",
   "name": "python3"
  },
  "language_info": {
   "codemirror_mode": {
    "name": "ipython",
    "version": 3
   },
   "file_extension": ".py",
   "mimetype": "text/x-python",
   "name": "python",
   "nbconvert_exporter": "python",
   "pygments_lexer": "ipython3",
   "version": "3.13.3"
  }
 },
 "nbformat": 4,
 "nbformat_minor": 5
}
